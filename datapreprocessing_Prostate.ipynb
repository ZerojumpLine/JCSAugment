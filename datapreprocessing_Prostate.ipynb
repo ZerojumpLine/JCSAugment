{
 "cells": [
  {
   "cell_type": "code",
   "execution_count": 1,
   "metadata": {},
   "outputs": [],
   "source": [
    "# Source\n",
    "datadownloadpath_Source = './datadownload/Prostate/BMC/'\n",
    "datasavepath_Source = './datapreprocessed/Prostate/BMC/'\n",
    "# Target\n",
    "datadownloadpath_Target = './datadownload/Prostate/I2CVB/'\n",
    "datasavepath_Target = './datapreprocessed/Prostate/I2CVB/'"
   ]
  },
  {
   "cell_type": "code",
   "execution_count": 2,
   "metadata": {},
   "outputs": [],
   "source": [
    "import glob\n",
    "import SimpleITK as sitk\n",
    "import numpy as np\n",
    "from scipy.ndimage import label, binary_fill_holes\n",
    "import os"
   ]
  },
  {
   "cell_type": "code",
   "execution_count": 3,
   "metadata": {},
   "outputs": [],
   "source": [
    "os.mkdir(datasavepath_Source)\n",
    "os.mkdir(datasavepath_Target)\n",
    "os.mkdir(datasavepath_Source + 'Image')\n",
    "os.mkdir(datasavepath_Source + 'Label')\n",
    "os.mkdir(datasavepath_Source + 'processed')\n",
    "os.mkdir(datasavepath_Source + 'mask')\n",
    "os.mkdir(datasavepath_Target + 'Image')\n",
    "os.mkdir(datasavepath_Target + 'Label')\n",
    "os.mkdir(datasavepath_Target + 'processed')\n",
    "os.mkdir(datasavepath_Target + 'mask')"
   ]
  },
  {
   "cell_type": "code",
   "execution_count": 4,
   "metadata": {},
   "outputs": [],
   "source": [
    "# helper functions copy pasted\n",
    "def resample_by_res(mov_img_obj, new_spacing, interpolator = sitk.sitkLinear, logging = True):\n",
    "    resample = sitk.ResampleImageFilter()\n",
    "    resample.SetInterpolator(interpolator)\n",
    "    resample.SetOutputDirection(mov_img_obj.GetDirection())\n",
    "    resample.SetOutputOrigin(mov_img_obj.GetOrigin())\n",
    "    resample.SetUseNearestNeighborExtrapolator(True)\n",
    "    mov_spacing = mov_img_obj.GetSpacing()\n",
    "\n",
    "    resample.SetOutputSpacing(new_spacing)\n",
    "    RES_COE = np.array(mov_spacing) * 1.0 / np.array(new_spacing)\n",
    "    new_size = np.array(mov_img_obj.GetSize()) *  RES_COE \n",
    "\n",
    "    resample.SetSize( [int(sz+1) for sz in new_size] )\n",
    "    if logging:\n",
    "        print(\"Spacing: {} -> {}\".format(mov_spacing, new_spacing))\n",
    "        print(\"Size {} -> {}\".format( mov_img_obj.GetSize(), new_size ))\n",
    "\n",
    "    return resample.Execute(mov_img_obj)\n",
    "\n",
    "def resample_lb_by_res(mov_lb_obj, new_spacing, interpolator = sitk.sitkLinear, ref_img = None, logging = True):\n",
    "    src_mat = sitk.GetArrayFromImage(mov_lb_obj)\n",
    "    lbvs = np.unique(src_mat)\n",
    "    if logging:\n",
    "        print(\"Label values: {}\".format(lbvs))\n",
    "    for idx, lbv in enumerate(lbvs):\n",
    "        _src_curr_mat = np.float32(src_mat == lbv) \n",
    "        _src_curr_obj = sitk.GetImageFromArray(_src_curr_mat)\n",
    "        _src_curr_obj.CopyInformation(mov_lb_obj)\n",
    "        _tar_curr_obj = resample_by_res( _src_curr_obj, new_spacing, interpolator, logging )\n",
    "        _tar_curr_mat = np.rint(sitk.GetArrayFromImage(_tar_curr_obj)) * lbv\n",
    "        if idx == 0:\n",
    "            out_vol = _tar_curr_mat\n",
    "        else:\n",
    "            out_vol[_tar_curr_mat == lbv] = lbv\n",
    "    out_obj = sitk.GetImageFromArray(out_vol)\n",
    "    out_obj.SetSpacing( _tar_curr_obj.GetSpacing() )\n",
    "    if ref_img != None:\n",
    "        out_obj.CopyInformation(ref_img)\n",
    "    return out_obj"
   ]
  },
  {
   "cell_type": "markdown",
   "metadata": {},
   "source": [
    "# Source Date Preprocessing"
   ]
  },
  {
   "cell_type": "code",
   "execution_count": 5,
   "metadata": {},
   "outputs": [],
   "source": [
    "IMG_FOLDER = datadownloadpath_Source\n",
    "SEG_FOLDER = datadownloadpath_Source\n",
    "imgs = glob.glob(IMG_FOLDER + \"/Case??.nii.gz\")\n",
    "imgs = [ fid for fid in sorted(imgs) ]\n",
    "segs = [ fid for fid in sorted(glob.glob(SEG_FOLDER + \"/*Segmentation.nii.gz\")) ]\n",
    "\n",
    "pids = [pid.split(\"/\")[-1].split(\".\")[0] for pid in imgs]"
   ]
  },
  {
   "cell_type": "code",
   "execution_count": 6,
   "metadata": {},
   "outputs": [
    {
     "data": {
      "text/plain": [
       "['./datadownload/Prostate/BMC/Case00.nii.gz',\n",
       " './datadownload/Prostate/BMC/Case01.nii.gz',\n",
       " './datadownload/Prostate/BMC/Case02.nii.gz',\n",
       " './datadownload/Prostate/BMC/Case03.nii.gz',\n",
       " './datadownload/Prostate/BMC/Case04.nii.gz',\n",
       " './datadownload/Prostate/BMC/Case05.nii.gz',\n",
       " './datadownload/Prostate/BMC/Case06.nii.gz',\n",
       " './datadownload/Prostate/BMC/Case07.nii.gz',\n",
       " './datadownload/Prostate/BMC/Case08.nii.gz',\n",
       " './datadownload/Prostate/BMC/Case09.nii.gz',\n",
       " './datadownload/Prostate/BMC/Case10.nii.gz',\n",
       " './datadownload/Prostate/BMC/Case11.nii.gz',\n",
       " './datadownload/Prostate/BMC/Case12.nii.gz',\n",
       " './datadownload/Prostate/BMC/Case13.nii.gz',\n",
       " './datadownload/Prostate/BMC/Case14.nii.gz',\n",
       " './datadownload/Prostate/BMC/Case15.nii.gz',\n",
       " './datadownload/Prostate/BMC/Case16.nii.gz',\n",
       " './datadownload/Prostate/BMC/Case17.nii.gz',\n",
       " './datadownload/Prostate/BMC/Case18.nii.gz',\n",
       " './datadownload/Prostate/BMC/Case19.nii.gz',\n",
       " './datadownload/Prostate/BMC/Case20.nii.gz',\n",
       " './datadownload/Prostate/BMC/Case21.nii.gz',\n",
       " './datadownload/Prostate/BMC/Case22.nii.gz',\n",
       " './datadownload/Prostate/BMC/Case23.nii.gz',\n",
       " './datadownload/Prostate/BMC/Case24.nii.gz',\n",
       " './datadownload/Prostate/BMC/Case25.nii.gz',\n",
       " './datadownload/Prostate/BMC/Case26.nii.gz',\n",
       " './datadownload/Prostate/BMC/Case27.nii.gz',\n",
       " './datadownload/Prostate/BMC/Case28.nii.gz',\n",
       " './datadownload/Prostate/BMC/Case29.nii.gz']"
      ]
     },
     "execution_count": 6,
     "metadata": {},
     "output_type": "execute_result"
    }
   ],
   "source": [
    "imgs"
   ]
  },
  {
   "cell_type": "code",
   "execution_count": 7,
   "metadata": {},
   "outputs": [
    {
     "data": {
      "text/plain": [
       "['./datadownload/Prostate/BMC/Case00_Segmentation.nii.gz',\n",
       " './datadownload/Prostate/BMC/Case01_Segmentation.nii.gz',\n",
       " './datadownload/Prostate/BMC/Case02_Segmentation.nii.gz',\n",
       " './datadownload/Prostate/BMC/Case03_Segmentation.nii.gz',\n",
       " './datadownload/Prostate/BMC/Case04_Segmentation.nii.gz',\n",
       " './datadownload/Prostate/BMC/Case05_Segmentation.nii.gz',\n",
       " './datadownload/Prostate/BMC/Case06_Segmentation.nii.gz',\n",
       " './datadownload/Prostate/BMC/Case07_Segmentation.nii.gz',\n",
       " './datadownload/Prostate/BMC/Case08_Segmentation.nii.gz',\n",
       " './datadownload/Prostate/BMC/Case09_Segmentation.nii.gz',\n",
       " './datadownload/Prostate/BMC/Case10_Segmentation.nii.gz',\n",
       " './datadownload/Prostate/BMC/Case11_Segmentation.nii.gz',\n",
       " './datadownload/Prostate/BMC/Case12_Segmentation.nii.gz',\n",
       " './datadownload/Prostate/BMC/Case13_Segmentation.nii.gz',\n",
       " './datadownload/Prostate/BMC/Case14_Segmentation.nii.gz',\n",
       " './datadownload/Prostate/BMC/Case15_Segmentation.nii.gz',\n",
       " './datadownload/Prostate/BMC/Case16_Segmentation.nii.gz',\n",
       " './datadownload/Prostate/BMC/Case17_Segmentation.nii.gz',\n",
       " './datadownload/Prostate/BMC/Case18_Segmentation.nii.gz',\n",
       " './datadownload/Prostate/BMC/Case19_Segmentation.nii.gz',\n",
       " './datadownload/Prostate/BMC/Case20_Segmentation.nii.gz',\n",
       " './datadownload/Prostate/BMC/Case21_Segmentation.nii.gz',\n",
       " './datadownload/Prostate/BMC/Case22_Segmentation.nii.gz',\n",
       " './datadownload/Prostate/BMC/Case23_Segmentation.nii.gz',\n",
       " './datadownload/Prostate/BMC/Case24_Segmentation.nii.gz',\n",
       " './datadownload/Prostate/BMC/Case25_Segmentation.nii.gz',\n",
       " './datadownload/Prostate/BMC/Case26_Segmentation.nii.gz',\n",
       " './datadownload/Prostate/BMC/Case27_Segmentation.nii.gz',\n",
       " './datadownload/Prostate/BMC/Case28_Segmentation.nii.gz',\n",
       " './datadownload/Prostate/BMC/Case29_Segmentation.nii.gz']"
      ]
     },
     "execution_count": 7,
     "metadata": {},
     "output_type": "execute_result"
    }
   ],
   "source": [
    "segs"
   ]
  },
  {
   "cell_type": "code",
   "execution_count": 8,
   "metadata": {},
   "outputs": [
    {
     "data": {
      "text/plain": [
       "['Case00',\n",
       " 'Case01',\n",
       " 'Case02',\n",
       " 'Case03',\n",
       " 'Case04',\n",
       " 'Case05',\n",
       " 'Case06',\n",
       " 'Case07',\n",
       " 'Case08',\n",
       " 'Case09',\n",
       " 'Case10',\n",
       " 'Case11',\n",
       " 'Case12',\n",
       " 'Case13',\n",
       " 'Case14',\n",
       " 'Case15',\n",
       " 'Case16',\n",
       " 'Case17',\n",
       " 'Case18',\n",
       " 'Case19',\n",
       " 'Case20',\n",
       " 'Case21',\n",
       " 'Case22',\n",
       " 'Case23',\n",
       " 'Case24',\n",
       " 'Case25',\n",
       " 'Case26',\n",
       " 'Case27',\n",
       " 'Case28',\n",
       " 'Case29']"
      ]
     },
     "execution_count": 8,
     "metadata": {},
     "output_type": "execute_result"
    }
   ],
   "source": [
    "pids"
   ]
  },
  {
   "cell_type": "markdown",
   "metadata": {},
   "source": [
    "## Step 1, Data resample"
   ]
  },
  {
   "cell_type": "code",
   "execution_count": 9,
   "metadata": {},
   "outputs": [],
   "source": [
    "targetspacing = [0.8, 0.8, 1.5]"
   ]
  },
  {
   "cell_type": "code",
   "execution_count": 10,
   "metadata": {},
   "outputs": [
    {
     "name": "stdout",
     "output_type": "stream",
     "text": [
      "Spacing: (0.4166666865348816, 0.4166666865348816, 3.000002861022949) -> [0.8, 0.8, 1.5]\n",
      "Size (384, 384, 32) -> [200.00000954 200.00000954  64.00006104]\n",
      "Label values: [0. 1. 2.]\n",
      "Spacing: (0.4166666865348816, 0.4166666865348816, 3.000002861022949) -> [0.8, 0.8, 1.5]\n",
      "Size (384, 384, 32) -> [200.00000954 200.00000954  64.00006104]\n",
      "Spacing: (0.4166666865348816, 0.4166666865348816, 3.000002861022949) -> [0.8, 0.8, 1.5]\n",
      "Size (384, 384, 32) -> [200.00000954 200.00000954  64.00006104]\n",
      "Spacing: (0.4166666865348816, 0.4166666865348816, 3.000002861022949) -> [0.8, 0.8, 1.5]\n",
      "Size (384, 384, 32) -> [200.00000954 200.00000954  64.00006104]\n",
      "Spacing: (0.4166666865348816, 0.4166666865348816, 2.999999523162842) -> [0.8, 0.8, 1.5]\n",
      "Size (384, 384, 30) -> [200.00000954 200.00000954  59.99999046]\n",
      "Label values: [0. 1. 2.]\n",
      "Spacing: (0.4166666865348816, 0.4166666865348816, 2.999999523162842) -> [0.8, 0.8, 1.5]\n",
      "Size (384, 384, 30) -> [200.00000954 200.00000954  59.99999046]\n",
      "Spacing: (0.4166666865348816, 0.4166666865348816, 2.999999523162842) -> [0.8, 0.8, 1.5]\n",
      "Size (384, 384, 30) -> [200.00000954 200.00000954  59.99999046]\n",
      "Spacing: (0.4166666865348816, 0.4166666865348816, 2.999999523162842) -> [0.8, 0.8, 1.5]\n",
      "Size (384, 384, 30) -> [200.00000954 200.00000954  59.99999046]\n",
      "Spacing: (0.4166666865348816, 0.4166666865348816, 3.000002145767212) -> [0.8, 0.8, 1.5]\n",
      "Size (384, 384, 32) -> [200.00000954 200.00000954  64.00004578]\n",
      "Label values: [0. 1. 2.]\n",
      "Spacing: (0.4166666865348816, 0.4166666865348816, 3.000002145767212) -> [0.8, 0.8, 1.5]\n",
      "Size (384, 384, 32) -> [200.00000954 200.00000954  64.00004578]\n",
      "Spacing: (0.4166666865348816, 0.4166666865348816, 3.000002145767212) -> [0.8, 0.8, 1.5]\n",
      "Size (384, 384, 32) -> [200.00000954 200.00000954  64.00004578]\n",
      "Spacing: (0.4166666865348816, 0.4166666865348816, 3.000002145767212) -> [0.8, 0.8, 1.5]\n",
      "Size (384, 384, 32) -> [200.00000954 200.00000954  64.00004578]\n",
      "Spacing: (0.4166666865348816, 0.4166666865348816, 3.000002145767212) -> [0.8, 0.8, 1.5]\n",
      "Size (384, 384, 32) -> [200.00000954 200.00000954  64.00004578]\n",
      "Label values: [0. 1. 2.]\n",
      "Spacing: (0.4166666865348816, 0.4166666865348816, 3.000002145767212) -> [0.8, 0.8, 1.5]\n",
      "Size (384, 384, 32) -> [200.00000954 200.00000954  64.00004578]\n",
      "Spacing: (0.4166666865348816, 0.4166666865348816, 3.000002145767212) -> [0.8, 0.8, 1.5]\n",
      "Size (384, 384, 32) -> [200.00000954 200.00000954  64.00004578]\n",
      "Spacing: (0.4166666865348816, 0.4166666865348816, 3.000002145767212) -> [0.8, 0.8, 1.5]\n",
      "Size (384, 384, 32) -> [200.00000954 200.00000954  64.00004578]\n",
      "Spacing: (0.4166666865348816, 0.4166666865348816, 3.0000007152557373) -> [0.8, 0.8, 1.5]\n",
      "Size (384, 384, 32) -> [200.00000954 200.00000954  64.00001526]\n",
      "Label values: [0. 1. 2.]\n",
      "Spacing: (0.4166666865348816, 0.4166666865348816, 3.0000007152557373) -> [0.8, 0.8, 1.5]\n",
      "Size (384, 384, 32) -> [200.00000954 200.00000954  64.00001526]\n",
      "Spacing: (0.4166666865348816, 0.4166666865348816, 3.0000007152557373) -> [0.8, 0.8, 1.5]\n",
      "Size (384, 384, 32) -> [200.00000954 200.00000954  64.00001526]\n",
      "Spacing: (0.4166666865348816, 0.4166666865348816, 3.0000007152557373) -> [0.8, 0.8, 1.5]\n",
      "Size (384, 384, 32) -> [200.00000954 200.00000954  64.00001526]\n",
      "Spacing: (0.4166666865348816, 0.4166666865348816, 3.0) -> [0.8, 0.8, 1.5]\n",
      "Size (384, 384, 36) -> [200.00000954 200.00000954  72.        ]\n",
      "Label values: [0. 1. 2.]\n",
      "Spacing: (0.4166666865348816, 0.4166666865348816, 3.0) -> [0.8, 0.8, 1.5]\n",
      "Size (384, 384, 36) -> [200.00000954 200.00000954  72.        ]\n",
      "Spacing: (0.4166666865348816, 0.4166666865348816, 3.0) -> [0.8, 0.8, 1.5]\n",
      "Size (384, 384, 36) -> [200.00000954 200.00000954  72.        ]\n",
      "Spacing: (0.4166666865348816, 0.4166666865348816, 3.0) -> [0.8, 0.8, 1.5]\n",
      "Size (384, 384, 36) -> [200.00000954 200.00000954  72.        ]\n",
      "Spacing: (0.4166666865348816, 0.4166666865348816, 3.000000238418579) -> [0.8, 0.8, 1.5]\n",
      "Size (384, 384, 32) -> [200.00000954 200.00000954  64.00000509]\n",
      "Label values: [0. 1. 2.]\n",
      "Spacing: (0.4166666865348816, 0.4166666865348816, 3.000000238418579) -> [0.8, 0.8, 1.5]\n",
      "Size (384, 384, 32) -> [200.00000954 200.00000954  64.00000509]\n",
      "Spacing: (0.4166666865348816, 0.4166666865348816, 3.000000238418579) -> [0.8, 0.8, 1.5]\n",
      "Size (384, 384, 32) -> [200.00000954 200.00000954  64.00000509]\n",
      "Spacing: (0.4166666865348816, 0.4166666865348816, 3.000000238418579) -> [0.8, 0.8, 1.5]\n",
      "Size (384, 384, 32) -> [200.00000954 200.00000954  64.00000509]\n",
      "Spacing: (0.4166666865348816, 0.4166666865348816, 2.9999983310699463) -> [0.8, 0.8, 1.5]\n",
      "Size (384, 384, 32) -> [200.00000954 200.00000954  63.9999644 ]\n",
      "Label values: [0. 1. 2.]\n",
      "Spacing: (0.4166666865348816, 0.4166666865348816, 2.9999983310699463) -> [0.8, 0.8, 1.5]\n",
      "Size (384, 384, 32) -> [200.00000954 200.00000954  63.9999644 ]\n",
      "Spacing: (0.4166666865348816, 0.4166666865348816, 2.9999983310699463) -> [0.8, 0.8, 1.5]\n",
      "Size (384, 384, 32) -> [200.00000954 200.00000954  63.9999644 ]\n",
      "Spacing: (0.4166666865348816, 0.4166666865348816, 2.9999983310699463) -> [0.8, 0.8, 1.5]\n",
      "Size (384, 384, 32) -> [200.00000954 200.00000954  63.9999644 ]\n",
      "Spacing: (0.4166666865348816, 0.4166666865348816, 2.9999966621398926) -> [0.8, 0.8, 1.5]\n",
      "Size (384, 384, 32) -> [200.00000954 200.00000954  63.99992879]\n",
      "Label values: [0. 1. 2.]\n",
      "Spacing: (0.4166666865348816, 0.4166666865348816, 2.9999966621398926) -> [0.8, 0.8, 1.5]\n",
      "Size (384, 384, 32) -> [200.00000954 200.00000954  63.99992879]\n",
      "Spacing: (0.4166666865348816, 0.4166666865348816, 2.9999966621398926) -> [0.8, 0.8, 1.5]\n",
      "Size (384, 384, 32) -> [200.00000954 200.00000954  63.99992879]\n",
      "Spacing: (0.4166666865348816, 0.4166666865348816, 2.9999966621398926) -> [0.8, 0.8, 1.5]\n",
      "Size (384, 384, 32) -> [200.00000954 200.00000954  63.99992879]\n",
      "Spacing: (0.4166666865348816, 0.4166666865348816, 2.9999992847442627) -> [0.8, 0.8, 1.5]\n",
      "Size (384, 384, 32) -> [200.00000954 200.00000954  63.99998474]\n",
      "Label values: [0. 1. 2.]\n",
      "Spacing: (0.4166666865348816, 0.4166666865348816, 2.9999992847442627) -> [0.8, 0.8, 1.5]\n",
      "Size (384, 384, 32) -> [200.00000954 200.00000954  63.99998474]\n",
      "Spacing: (0.4166666865348816, 0.4166666865348816, 2.9999992847442627) -> [0.8, 0.8, 1.5]\n",
      "Size (384, 384, 32) -> [200.00000954 200.00000954  63.99998474]\n",
      "Spacing: (0.4166666865348816, 0.4166666865348816, 2.9999992847442627) -> [0.8, 0.8, 1.5]\n",
      "Size (384, 384, 32) -> [200.00000954 200.00000954  63.99998474]\n",
      "Spacing: (0.4166666865348816, 0.4166666865348816, 3.0000014305114746) -> [0.8, 0.8, 1.5]\n",
      "Size (384, 384, 38) -> [200.00000954 200.00000954  76.00003624]\n",
      "Label values: [0. 1. 2.]\n",
      "Spacing: (0.4166666865348816, 0.4166666865348816, 3.0000014305114746) -> [0.8, 0.8, 1.5]\n",
      "Size (384, 384, 38) -> [200.00000954 200.00000954  76.00003624]\n",
      "Spacing: (0.4166666865348816, 0.4166666865348816, 3.0000014305114746) -> [0.8, 0.8, 1.5]\n",
      "Size (384, 384, 38) -> [200.00000954 200.00000954  76.00003624]\n",
      "Spacing: (0.4166666865348816, 0.4166666865348816, 3.0000014305114746) -> [0.8, 0.8, 1.5]\n",
      "Size (384, 384, 38) -> [200.00000954 200.00000954  76.00003624]\n",
      "Spacing: (0.4166666865348816, 0.4166666865348816, 2.999993085861206) -> [0.8, 0.8, 1.5]\n",
      "Size (384, 384, 32) -> [200.00000954 200.00000954  63.9998525 ]\n",
      "Label values: [0. 1. 2.]\n",
      "Spacing: (0.4166666865348816, 0.4166666865348816, 2.999993085861206) -> [0.8, 0.8, 1.5]\n",
      "Size (384, 384, 32) -> [200.00000954 200.00000954  63.9998525 ]\n",
      "Spacing: (0.4166666865348816, 0.4166666865348816, 2.999993085861206) -> [0.8, 0.8, 1.5]\n",
      "Size (384, 384, 32) -> [200.00000954 200.00000954  63.9998525 ]\n",
      "Spacing: (0.4166666865348816, 0.4166666865348816, 2.999993085861206) -> [0.8, 0.8, 1.5]\n",
      "Size (384, 384, 32) -> [200.00000954 200.00000954  63.9998525 ]\n",
      "Spacing: (0.4166666865348816, 0.4166666865348816, 3.0000064373016357) -> [0.8, 0.8, 1.5]\n",
      "Size (384, 384, 32) -> [200.00000954 200.00000954  64.00013733]\n",
      "Label values: [0. 1. 2.]\n",
      "Spacing: (0.4166666865348816, 0.4166666865348816, 3.0000064373016357) -> [0.8, 0.8, 1.5]\n",
      "Size (384, 384, 32) -> [200.00000954 200.00000954  64.00013733]\n",
      "Spacing: (0.4166666865348816, 0.4166666865348816, 3.0000064373016357) -> [0.8, 0.8, 1.5]\n",
      "Size (384, 384, 32) -> [200.00000954 200.00000954  64.00013733]\n",
      "Spacing: (0.4166666865348816, 0.4166666865348816, 3.0000064373016357) -> [0.8, 0.8, 1.5]\n",
      "Size (384, 384, 32) -> [200.00000954 200.00000954  64.00013733]\n"
     ]
    },
    {
     "name": "stdout",
     "output_type": "stream",
     "text": [
      "Spacing: (0.4166666865348816, 0.4166666865348816, 3.000000238418579) -> [0.8, 0.8, 1.5]\n",
      "Size (384, 384, 32) -> [200.00000954 200.00000954  64.00000509]\n",
      "Label values: [0. 1. 2.]\n",
      "Spacing: (0.4166666865348816, 0.4166666865348816, 3.000000238418579) -> [0.8, 0.8, 1.5]\n",
      "Size (384, 384, 32) -> [200.00000954 200.00000954  64.00000509]\n",
      "Spacing: (0.4166666865348816, 0.4166666865348816, 3.000000238418579) -> [0.8, 0.8, 1.5]\n",
      "Size (384, 384, 32) -> [200.00000954 200.00000954  64.00000509]\n",
      "Spacing: (0.4166666865348816, 0.4166666865348816, 3.000000238418579) -> [0.8, 0.8, 1.5]\n",
      "Size (384, 384, 32) -> [200.00000954 200.00000954  64.00000509]\n",
      "Spacing: (0.4166666865348816, 0.4166666865348816, 2.9999990463256836) -> [0.8, 0.8, 1.5]\n",
      "Size (384, 384, 32) -> [200.00000954 200.00000954  63.99997965]\n",
      "Label values: [0. 1. 2.]\n",
      "Spacing: (0.4166666865348816, 0.4166666865348816, 2.9999990463256836) -> [0.8, 0.8, 1.5]\n",
      "Size (384, 384, 32) -> [200.00000954 200.00000954  63.99997965]\n",
      "Spacing: (0.4166666865348816, 0.4166666865348816, 2.9999990463256836) -> [0.8, 0.8, 1.5]\n",
      "Size (384, 384, 32) -> [200.00000954 200.00000954  63.99997965]\n",
      "Spacing: (0.4166666865348816, 0.4166666865348816, 2.9999990463256836) -> [0.8, 0.8, 1.5]\n",
      "Size (384, 384, 32) -> [200.00000954 200.00000954  63.99997965]\n",
      "Spacing: (0.4166666865348816, 0.4166666865348816, 3.0000030994415283) -> [0.8, 0.8, 1.5]\n",
      "Size (384, 384, 32) -> [200.00000954 200.00000954  64.00006612]\n",
      "Label values: [0. 1. 2.]\n",
      "Spacing: (0.4166666865348816, 0.4166666865348816, 3.0000030994415283) -> [0.8, 0.8, 1.5]\n",
      "Size (384, 384, 32) -> [200.00000954 200.00000954  64.00006612]\n",
      "Spacing: (0.4166666865348816, 0.4166666865348816, 3.0000030994415283) -> [0.8, 0.8, 1.5]\n",
      "Size (384, 384, 32) -> [200.00000954 200.00000954  64.00006612]\n",
      "Spacing: (0.4166666865348816, 0.4166666865348816, 3.0000030994415283) -> [0.8, 0.8, 1.5]\n",
      "Size (384, 384, 32) -> [200.00000954 200.00000954  64.00006612]\n",
      "Spacing: (0.4166666865348816, 0.4166666865348816, 3.000000238418579) -> [0.8, 0.8, 1.5]\n",
      "Size (384, 384, 32) -> [200.00000954 200.00000954  64.00000509]\n",
      "Label values: [0. 1. 2.]\n",
      "Spacing: (0.4166666865348816, 0.4166666865348816, 3.000000238418579) -> [0.8, 0.8, 1.5]\n",
      "Size (384, 384, 32) -> [200.00000954 200.00000954  64.00000509]\n",
      "Spacing: (0.4166666865348816, 0.4166666865348816, 3.000000238418579) -> [0.8, 0.8, 1.5]\n",
      "Size (384, 384, 32) -> [200.00000954 200.00000954  64.00000509]\n",
      "Spacing: (0.4166666865348816, 0.4166666865348816, 3.000000238418579) -> [0.8, 0.8, 1.5]\n",
      "Size (384, 384, 32) -> [200.00000954 200.00000954  64.00000509]\n",
      "Spacing: (0.4166666865348816, 0.4166666865348816, 4.000000476837158) -> [0.8, 0.8, 1.5]\n",
      "Size (384, 384, 23) -> [200.00000954 200.00000954  61.33334064]\n",
      "Label values: [0. 1. 2.]\n",
      "Spacing: (0.4166666865348816, 0.4166666865348816, 4.000000476837158) -> [0.8, 0.8, 1.5]\n",
      "Size (384, 384, 23) -> [200.00000954 200.00000954  61.33334064]\n",
      "Spacing: (0.4166666865348816, 0.4166666865348816, 4.000000476837158) -> [0.8, 0.8, 1.5]\n",
      "Size (384, 384, 23) -> [200.00000954 200.00000954  61.33334064]\n",
      "Spacing: (0.4166666865348816, 0.4166666865348816, 4.000000476837158) -> [0.8, 0.8, 1.5]\n",
      "Size (384, 384, 23) -> [200.00000954 200.00000954  61.33334064]\n",
      "Spacing: (0.4166666865348816, 0.4166666865348816, 2.99999737739563) -> [0.8, 0.8, 1.5]\n",
      "Size (384, 384, 32) -> [200.00000954 200.00000954  63.99994405]\n",
      "Label values: [0. 1. 2.]\n",
      "Spacing: (0.4166666865348816, 0.4166666865348816, 2.99999737739563) -> [0.8, 0.8, 1.5]\n",
      "Size (384, 384, 32) -> [200.00000954 200.00000954  63.99994405]\n",
      "Spacing: (0.4166666865348816, 0.4166666865348816, 2.99999737739563) -> [0.8, 0.8, 1.5]\n",
      "Size (384, 384, 32) -> [200.00000954 200.00000954  63.99994405]\n",
      "Spacing: (0.4166666865348816, 0.4166666865348816, 2.99999737739563) -> [0.8, 0.8, 1.5]\n",
      "Size (384, 384, 32) -> [200.00000954 200.00000954  63.99994405]\n",
      "Spacing: (0.4166666865348816, 0.4166666865348816, 2.999999523162842) -> [0.8, 0.8, 1.5]\n",
      "Size (384, 384, 32) -> [200.00000954 200.00000954  63.99998983]\n",
      "Label values: [0. 1. 2.]\n",
      "Spacing: (0.4166666865348816, 0.4166666865348816, 2.999999523162842) -> [0.8, 0.8, 1.5]\n",
      "Size (384, 384, 32) -> [200.00000954 200.00000954  63.99998983]\n",
      "Spacing: (0.4166666865348816, 0.4166666865348816, 2.999999523162842) -> [0.8, 0.8, 1.5]\n",
      "Size (384, 384, 32) -> [200.00000954 200.00000954  63.99998983]\n",
      "Spacing: (0.4166666865348816, 0.4166666865348816, 2.999999523162842) -> [0.8, 0.8, 1.5]\n",
      "Size (384, 384, 32) -> [200.00000954 200.00000954  63.99998983]\n",
      "Spacing: (0.4166666865348816, 0.4166666865348816, 2.9999992847442627) -> [0.8, 0.8, 1.5]\n",
      "Size (384, 384, 32) -> [200.00000954 200.00000954  63.99998474]\n",
      "Label values: [0. 1. 2.]\n",
      "Spacing: (0.4166666865348816, 0.4166666865348816, 2.9999992847442627) -> [0.8, 0.8, 1.5]\n",
      "Size (384, 384, 32) -> [200.00000954 200.00000954  63.99998474]\n",
      "Spacing: (0.4166666865348816, 0.4166666865348816, 2.9999992847442627) -> [0.8, 0.8, 1.5]\n",
      "Size (384, 384, 32) -> [200.00000954 200.00000954  63.99998474]\n",
      "Spacing: (0.4166666865348816, 0.4166666865348816, 2.9999992847442627) -> [0.8, 0.8, 1.5]\n",
      "Size (384, 384, 32) -> [200.00000954 200.00000954  63.99998474]\n",
      "Spacing: (0.4166666865348816, 0.4166666865348816, 2.99999737739563) -> [0.8, 0.8, 1.5]\n",
      "Size (384, 384, 32) -> [200.00000954 200.00000954  63.99994405]\n",
      "Label values: [0. 1. 2.]\n",
      "Spacing: (0.4166666865348816, 0.4166666865348816, 2.99999737739563) -> [0.8, 0.8, 1.5]\n",
      "Size (384, 384, 32) -> [200.00000954 200.00000954  63.99994405]\n",
      "Spacing: (0.4166666865348816, 0.4166666865348816, 2.99999737739563) -> [0.8, 0.8, 1.5]\n",
      "Size (384, 384, 32) -> [200.00000954 200.00000954  63.99994405]\n",
      "Spacing: (0.4166666865348816, 0.4166666865348816, 2.99999737739563) -> [0.8, 0.8, 1.5]\n",
      "Size (384, 384, 32) -> [200.00000954 200.00000954  63.99994405]\n",
      "Spacing: (0.4166666865348816, 0.4166666865348816, 3.0000007152557373) -> [0.8, 0.8, 1.5]\n",
      "Size (384, 384, 32) -> [200.00000954 200.00000954  64.00001526]\n",
      "Label values: [0. 1. 2.]\n",
      "Spacing: (0.4166666865348816, 0.4166666865348816, 3.0000007152557373) -> [0.8, 0.8, 1.5]\n",
      "Size (384, 384, 32) -> [200.00000954 200.00000954  64.00001526]\n",
      "Spacing: (0.4166666865348816, 0.4166666865348816, 3.0000007152557373) -> [0.8, 0.8, 1.5]\n",
      "Size (384, 384, 32) -> [200.00000954 200.00000954  64.00001526]\n",
      "Spacing: (0.4166666865348816, 0.4166666865348816, 3.0000007152557373) -> [0.8, 0.8, 1.5]\n",
      "Size (384, 384, 32) -> [200.00000954 200.00000954  64.00001526]\n",
      "Spacing: (0.4166666865348816, 0.4166666865348816, 2.9999940395355225) -> [0.8, 0.8, 1.5]\n",
      "Size (384, 384, 32) -> [200.00000954 200.00000954  63.99987284]\n",
      "Label values: [0. 1. 2.]\n",
      "Spacing: (0.4166666865348816, 0.4166666865348816, 2.9999940395355225) -> [0.8, 0.8, 1.5]\n",
      "Size (384, 384, 32) -> [200.00000954 200.00000954  63.99987284]\n",
      "Spacing: (0.4166666865348816, 0.4166666865348816, 2.9999940395355225) -> [0.8, 0.8, 1.5]\n",
      "Size (384, 384, 32) -> [200.00000954 200.00000954  63.99987284]\n",
      "Spacing: (0.4166666865348816, 0.4166666865348816, 2.9999940395355225) -> [0.8, 0.8, 1.5]\n",
      "Size (384, 384, 32) -> [200.00000954 200.00000954  63.99987284]\n",
      "Spacing: (0.4166666865348816, 0.4166666865348816, 3.000002145767212) -> [0.8, 0.8, 1.5]\n",
      "Size (384, 384, 35) -> [200.00000954 200.00000954  70.00005007]\n",
      "Label values: [0. 1. 2.]\n",
      "Spacing: (0.4166666865348816, 0.4166666865348816, 3.000002145767212) -> [0.8, 0.8, 1.5]\n",
      "Size (384, 384, 35) -> [200.00000954 200.00000954  70.00005007]\n",
      "Spacing: (0.4166666865348816, 0.4166666865348816, 3.000002145767212) -> [0.8, 0.8, 1.5]\n",
      "Size (384, 384, 35) -> [200.00000954 200.00000954  70.00005007]\n",
      "Spacing: (0.4166666865348816, 0.4166666865348816, 3.000002145767212) -> [0.8, 0.8, 1.5]\n",
      "Size (384, 384, 35) -> [200.00000954 200.00000954  70.00005007]\n",
      "Spacing: (0.4166666865348816, 0.4166666865348816, 3.0000052452087402) -> [0.8, 0.8, 1.5]\n",
      "Size (384, 384, 34) -> [200.00000954 200.00000954  68.00011889]\n",
      "Label values: [0. 1. 2.]\n",
      "Spacing: (0.4166666865348816, 0.4166666865348816, 3.0000052452087402) -> [0.8, 0.8, 1.5]\n",
      "Size (384, 384, 34) -> [200.00000954 200.00000954  68.00011889]\n",
      "Spacing: (0.4166666865348816, 0.4166666865348816, 3.0000052452087402) -> [0.8, 0.8, 1.5]\n",
      "Size (384, 384, 34) -> [200.00000954 200.00000954  68.00011889]\n",
      "Spacing: (0.4166666865348816, 0.4166666865348816, 3.0000052452087402) -> [0.8, 0.8, 1.5]\n",
      "Size (384, 384, 34) -> [200.00000954 200.00000954  68.00011889]\n"
     ]
    },
    {
     "name": "stdout",
     "output_type": "stream",
     "text": [
      "Spacing: (0.4166666865348816, 0.4166666865348816, 3.000000238418579) -> [0.8, 0.8, 1.5]\n",
      "Size (384, 384, 34) -> [200.00000954 200.00000954  68.0000054 ]\n",
      "Label values: [0. 1. 2.]\n",
      "Spacing: (0.4166666865348816, 0.4166666865348816, 3.000000238418579) -> [0.8, 0.8, 1.5]\n",
      "Size (384, 384, 34) -> [200.00000954 200.00000954  68.0000054 ]\n",
      "Spacing: (0.4166666865348816, 0.4166666865348816, 3.000000238418579) -> [0.8, 0.8, 1.5]\n",
      "Size (384, 384, 34) -> [200.00000954 200.00000954  68.0000054 ]\n",
      "Spacing: (0.4166666865348816, 0.4166666865348816, 3.000000238418579) -> [0.8, 0.8, 1.5]\n",
      "Size (384, 384, 34) -> [200.00000954 200.00000954  68.0000054 ]\n",
      "Spacing: (0.4166666865348816, 0.4166666865348816, 3.0000059604644775) -> [0.8, 0.8, 1.5]\n",
      "Size (384, 384, 32) -> [200.00000954 200.00000954  64.00012716]\n",
      "Label values: [0. 1. 2.]\n",
      "Spacing: (0.4166666865348816, 0.4166666865348816, 3.0000059604644775) -> [0.8, 0.8, 1.5]\n",
      "Size (384, 384, 32) -> [200.00000954 200.00000954  64.00012716]\n",
      "Spacing: (0.4166666865348816, 0.4166666865348816, 3.0000059604644775) -> [0.8, 0.8, 1.5]\n",
      "Size (384, 384, 32) -> [200.00000954 200.00000954  64.00012716]\n",
      "Spacing: (0.4166666865348816, 0.4166666865348816, 3.0000059604644775) -> [0.8, 0.8, 1.5]\n",
      "Size (384, 384, 32) -> [200.00000954 200.00000954  64.00012716]\n",
      "Spacing: (0.4166666865348816, 0.4166666865348816, 3.0000011920928955) -> [0.8, 0.8, 1.5]\n",
      "Size (384, 384, 32) -> [200.00000954 200.00000954  64.00002543]\n",
      "Label values: [0. 1. 2.]\n",
      "Spacing: (0.4166666865348816, 0.4166666865348816, 3.0000011920928955) -> [0.8, 0.8, 1.5]\n",
      "Size (384, 384, 32) -> [200.00000954 200.00000954  64.00002543]\n",
      "Spacing: (0.4166666865348816, 0.4166666865348816, 3.0000011920928955) -> [0.8, 0.8, 1.5]\n",
      "Size (384, 384, 32) -> [200.00000954 200.00000954  64.00002543]\n",
      "Spacing: (0.4166666865348816, 0.4166666865348816, 3.0000011920928955) -> [0.8, 0.8, 1.5]\n",
      "Size (384, 384, 32) -> [200.00000954 200.00000954  64.00002543]\n",
      "Spacing: (0.4427083134651184, 0.4427083134651184, 2.9999983310699463) -> [0.8, 0.8, 1.5]\n",
      "Size (384, 384, 32) -> [212.49999046 212.49999046  63.9999644 ]\n",
      "Label values: [0. 1. 2.]\n",
      "Spacing: (0.4427083134651184, 0.4427083134651184, 2.9999983310699463) -> [0.8, 0.8, 1.5]\n",
      "Size (384, 384, 32) -> [212.49999046 212.49999046  63.9999644 ]\n",
      "Spacing: (0.4427083134651184, 0.4427083134651184, 2.9999983310699463) -> [0.8, 0.8, 1.5]\n",
      "Size (384, 384, 32) -> [212.49999046 212.49999046  63.9999644 ]\n",
      "Spacing: (0.4427083134651184, 0.4427083134651184, 2.9999983310699463) -> [0.8, 0.8, 1.5]\n",
      "Size (384, 384, 32) -> [212.49999046 212.49999046  63.9999644 ]\n"
     ]
    }
   ],
   "source": [
    "for (imgfile, lblfile, pid) in zip(imgs, segs, pids):\n",
    "    savename = 'Prostate_' + pid + '.nii.gz'\n",
    "    img_obj = sitk.ReadImage( imgfile )\n",
    "    seg_obj = sitk.ReadImage( lblfile )\n",
    "    img_spa_ori = img_obj.GetSpacing()\n",
    "    seg_obj.SetSpacing(img_spa_ori)\n",
    "    res_img_o = resample_by_res(img_obj, targetspacing, interpolator = sitk.sitkLinear,\n",
    "                                    logging = True)\n",
    "    res_lb_o = resample_lb_by_res(seg_obj, targetspacing, interpolator = sitk.sitkLinear,\n",
    "                                  ref_img = res_img_o, logging = True)\n",
    "    sitk.WriteImage(res_img_o, datasavepath_Source + 'Image/' + savename, True) \n",
    "    sitk.WriteImage(res_lb_o, datasavepath_Source + 'Label/' + savename, True) "
   ]
  },
  {
   "cell_type": "markdown",
   "metadata": {},
   "source": [
    "## Step 2, Intensity Normalization"
   ]
  },
  {
   "cell_type": "code",
   "execution_count": 11,
   "metadata": {},
   "outputs": [],
   "source": [
    "IMG_FOLDER_SAVE = datasavepath_Source + 'Image/'\n",
    "imgs = glob.glob(IMG_FOLDER_SAVE + \"/Prostate_*.nii.gz\")\n",
    "imgs = [ fid for fid in sorted(imgs) ]"
   ]
  },
  {
   "cell_type": "code",
   "execution_count": 12,
   "metadata": {},
   "outputs": [
    {
     "name": "stdout",
     "output_type": "stream",
     "text": [
      "Id Case00 normalized\n",
      "Id Case01 normalized\n",
      "Id Case02 normalized\n",
      "Id Case03 normalized\n",
      "Id Case04 normalized\n",
      "Id Case05 normalized\n",
      "Id Case06 normalized\n",
      "Id Case07 normalized\n",
      "Id Case08 normalized\n",
      "Id Case09 normalized\n",
      "Id Case10 normalized\n",
      "Id Case11 normalized\n",
      "Id Case12 normalized\n",
      "Id Case13 normalized\n",
      "Id Case14 normalized\n",
      "Id Case15 normalized\n",
      "Id Case16 normalized\n",
      "Id Case17 normalized\n",
      "Id Case18 normalized\n",
      "Id Case19 normalized\n",
      "Id Case20 normalized\n",
      "Id Case21 normalized\n",
      "Id Case22 normalized\n",
      "Id Case23 normalized\n",
      "Id Case24 normalized\n",
      "Id Case25 normalized\n",
      "Id Case26 normalized\n",
      "Id Case27 normalized\n",
      "Id Case28 normalized\n",
      "Id Case29 normalized\n"
     ]
    }
   ],
   "source": [
    "for (imgfile, pid) in zip(imgs, pids):\n",
    "    savename = 'Prostate_' + pid + '.nii.gz'\n",
    "    img_obj = sitk.ReadImage( imgfile )\n",
    "    \n",
    "    array = sitk.GetArrayFromImage(img_obj)\n",
    "\n",
    "    pixel_mean = np.mean(array)\n",
    "    pixel_std = np.std(array)\n",
    "    array = (array - pixel_mean) / pixel_std\n",
    "\n",
    "    normalized_img = sitk.GetImageFromArray(array)\n",
    "    normalized_img.CopyInformation(img_obj)\n",
    "    \n",
    "    sitk.WriteImage(normalized_img, datasavepath_Source + 'processed/' + savename, True) \n",
    "    print('Id ' + pid + ' normalized')"
   ]
  },
  {
   "cell_type": "markdown",
   "metadata": {},
   "source": [
    "## Step 3, Generate Binary Segmentation Masks"
   ]
  },
  {
   "cell_type": "code",
   "execution_count": 13,
   "metadata": {},
   "outputs": [],
   "source": [
    "SEG_FOLDER_SAVE = datasavepath_Source + 'Label/'\n",
    "segs = [ fid for fid in sorted(glob.glob(SEG_FOLDER_SAVE + \"/Prostate_*.nii.gz\")) ]"
   ]
  },
  {
   "cell_type": "code",
   "execution_count": 14,
   "metadata": {},
   "outputs": [
    {
     "name": "stdout",
     "output_type": "stream",
     "text": [
      "Id Case00 generated\n",
      "Id Case01 generated\n",
      "Id Case02 generated\n",
      "Id Case03 generated\n",
      "Id Case04 generated\n",
      "Id Case05 generated\n",
      "Id Case06 generated\n",
      "Id Case07 generated\n",
      "Id Case08 generated\n",
      "Id Case09 generated\n",
      "Id Case10 generated\n",
      "Id Case11 generated\n",
      "Id Case12 generated\n",
      "Id Case13 generated\n",
      "Id Case14 generated\n",
      "Id Case15 generated\n",
      "Id Case16 generated\n",
      "Id Case17 generated\n",
      "Id Case18 generated\n",
      "Id Case19 generated\n",
      "Id Case20 generated\n",
      "Id Case21 generated\n",
      "Id Case22 generated\n",
      "Id Case23 generated\n",
      "Id Case24 generated\n",
      "Id Case25 generated\n",
      "Id Case26 generated\n",
      "Id Case27 generated\n",
      "Id Case28 generated\n",
      "Id Case29 generated\n"
     ]
    }
   ],
   "source": [
    "for (segfile, pid) in zip(segs, pids):\n",
    "    savename = 'Prostate_' + pid + '.nii.gz'\n",
    "    seg_obj = sitk.ReadImage( segfile )\n",
    "    \n",
    "    array = sitk.GetArrayFromImage(seg_obj)\n",
    "\n",
    "    array[array > 0] = 1\n",
    "\n",
    "    binary_seg = sitk.GetImageFromArray(array)\n",
    "    binary_seg.CopyInformation(seg_obj)\n",
    "    \n",
    "    sitk.WriteImage(binary_seg, datasavepath_Source + 'Label/' + savename, True) \n",
    "    print('Id ' + pid + ' generated')"
   ]
  },
  {
   "cell_type": "markdown",
   "metadata": {},
   "source": [
    "## Step 4, Generate Body Masks"
   ]
  },
  {
   "cell_type": "code",
   "execution_count": 15,
   "metadata": {},
   "outputs": [],
   "source": [
    "IMG_FOLDER_SAVE = datasavepath_Source + 'Image/'\n",
    "imgs = glob.glob(IMG_FOLDER_SAVE + \"/Prostate_*.nii.gz\")\n",
    "imgs = [ fid for fid in sorted(imgs) ]"
   ]
  },
  {
   "cell_type": "code",
   "execution_count": 16,
   "metadata": {},
   "outputs": [],
   "source": [
    "for (imgfile, pid) in zip(imgs, pids):\n",
    "    savename = 'Prostate_' + pid + '.nii.gz'\n",
    "    img_obj = sitk.ReadImage( imgfile )\n",
    "    array = sitk.GetArrayFromImage(img_obj)\n",
    "    array_mask = array > -999\n",
    "    array_mask = array_mask.astype(float)\n",
    "\n",
    "    mask_img = sitk.GetImageFromArray(array_mask)\n",
    "    mask_img.CopyInformation(img_obj)\n",
    "    \n",
    "    sitk.WriteImage(mask_img, datasavepath_Source + 'mask/' + savename, True) "
   ]
  },
  {
   "cell_type": "markdown",
   "metadata": {},
   "source": [
    "# Target Data Preprocessing"
   ]
  },
  {
   "cell_type": "code",
   "execution_count": 17,
   "metadata": {},
   "outputs": [],
   "source": [
    "IMG_FOLDER = datadownloadpath_Target\n",
    "SEG_FOLDER = datadownloadpath_Target\n",
    "imgs = glob.glob(IMG_FOLDER + \"/Case??.nii.gz\")\n",
    "imgs = [ fid for fid in sorted(imgs) ]\n",
    "segs = [ fid for fid in sorted(glob.glob(SEG_FOLDER + \"/*segmentation.nii.gz\")) ]\n",
    "\n",
    "pids = [pid.split(\"/\")[-1].split(\".\")[0] for pid in imgs]"
   ]
  },
  {
   "cell_type": "code",
   "execution_count": 18,
   "metadata": {},
   "outputs": [
    {
     "data": {
      "text/plain": [
       "['./datadownload/Prostate/I2CVB/Case00.nii.gz',\n",
       " './datadownload/Prostate/I2CVB/Case01.nii.gz',\n",
       " './datadownload/Prostate/I2CVB/Case02.nii.gz',\n",
       " './datadownload/Prostate/I2CVB/Case03.nii.gz',\n",
       " './datadownload/Prostate/I2CVB/Case04.nii.gz',\n",
       " './datadownload/Prostate/I2CVB/Case05.nii.gz',\n",
       " './datadownload/Prostate/I2CVB/Case06.nii.gz',\n",
       " './datadownload/Prostate/I2CVB/Case07.nii.gz',\n",
       " './datadownload/Prostate/I2CVB/Case08.nii.gz',\n",
       " './datadownload/Prostate/I2CVB/Case09.nii.gz',\n",
       " './datadownload/Prostate/I2CVB/Case10.nii.gz',\n",
       " './datadownload/Prostate/I2CVB/Case11.nii.gz',\n",
       " './datadownload/Prostate/I2CVB/Case12.nii.gz',\n",
       " './datadownload/Prostate/I2CVB/Case13.nii.gz',\n",
       " './datadownload/Prostate/I2CVB/Case14.nii.gz',\n",
       " './datadownload/Prostate/I2CVB/Case15.nii.gz',\n",
       " './datadownload/Prostate/I2CVB/Case16.nii.gz',\n",
       " './datadownload/Prostate/I2CVB/Case17.nii.gz',\n",
       " './datadownload/Prostate/I2CVB/Case18.nii.gz']"
      ]
     },
     "execution_count": 18,
     "metadata": {},
     "output_type": "execute_result"
    }
   ],
   "source": [
    "imgs"
   ]
  },
  {
   "cell_type": "code",
   "execution_count": 19,
   "metadata": {},
   "outputs": [
    {
     "data": {
      "text/plain": [
       "['./datadownload/Prostate/I2CVB/Case00_segmentation.nii.gz',\n",
       " './datadownload/Prostate/I2CVB/Case01_segmentation.nii.gz',\n",
       " './datadownload/Prostate/I2CVB/Case02_segmentation.nii.gz',\n",
       " './datadownload/Prostate/I2CVB/Case03_segmentation.nii.gz',\n",
       " './datadownload/Prostate/I2CVB/Case04_segmentation.nii.gz',\n",
       " './datadownload/Prostate/I2CVB/Case05_segmentation.nii.gz',\n",
       " './datadownload/Prostate/I2CVB/Case06_segmentation.nii.gz',\n",
       " './datadownload/Prostate/I2CVB/Case07_segmentation.nii.gz',\n",
       " './datadownload/Prostate/I2CVB/Case08_segmentation.nii.gz',\n",
       " './datadownload/Prostate/I2CVB/Case09_segmentation.nii.gz',\n",
       " './datadownload/Prostate/I2CVB/Case10_segmentation.nii.gz',\n",
       " './datadownload/Prostate/I2CVB/Case11_segmentation.nii.gz',\n",
       " './datadownload/Prostate/I2CVB/Case12_segmentation.nii.gz',\n",
       " './datadownload/Prostate/I2CVB/Case13_segmentation.nii.gz',\n",
       " './datadownload/Prostate/I2CVB/Case14_segmentation.nii.gz',\n",
       " './datadownload/Prostate/I2CVB/Case15_segmentation.nii.gz',\n",
       " './datadownload/Prostate/I2CVB/Case16_segmentation.nii.gz',\n",
       " './datadownload/Prostate/I2CVB/Case17_segmentation.nii.gz',\n",
       " './datadownload/Prostate/I2CVB/Case18_segmentation.nii.gz']"
      ]
     },
     "execution_count": 19,
     "metadata": {},
     "output_type": "execute_result"
    }
   ],
   "source": [
    "segs"
   ]
  },
  {
   "cell_type": "code",
   "execution_count": 20,
   "metadata": {},
   "outputs": [
    {
     "data": {
      "text/plain": [
       "['Case00',\n",
       " 'Case01',\n",
       " 'Case02',\n",
       " 'Case03',\n",
       " 'Case04',\n",
       " 'Case05',\n",
       " 'Case06',\n",
       " 'Case07',\n",
       " 'Case08',\n",
       " 'Case09',\n",
       " 'Case10',\n",
       " 'Case11',\n",
       " 'Case12',\n",
       " 'Case13',\n",
       " 'Case14',\n",
       " 'Case15',\n",
       " 'Case16',\n",
       " 'Case17',\n",
       " 'Case18']"
      ]
     },
     "execution_count": 20,
     "metadata": {},
     "output_type": "execute_result"
    }
   ],
   "source": [
    "pids"
   ]
  },
  {
   "cell_type": "markdown",
   "metadata": {},
   "source": [
    "## Step 1, Data resample"
   ]
  },
  {
   "cell_type": "code",
   "execution_count": 21,
   "metadata": {},
   "outputs": [],
   "source": [
    "targetspacing = [0.8, 0.8, 1.5]"
   ]
  },
  {
   "cell_type": "code",
   "execution_count": 22,
   "metadata": {},
   "outputs": [
    {
     "name": "stdout",
     "output_type": "stream",
     "text": [
      "Spacing: (0.5342610478401184, 0.42852187156677246, 1.2500853538513184) -> [0.8, 0.8, 1.5]\n",
      "Size (384, 384, 64) -> [256.44530296 205.69049835  53.3369751 ]\n",
      "Label values: [0. 1.]\n",
      "Spacing: (0.5342610478401184, 0.42852187156677246, 1.2500853538513184) -> [0.8, 0.8, 1.5]\n",
      "Size (384, 384, 64) -> [256.44530296 205.69049835  53.3369751 ]\n",
      "Spacing: (0.5342610478401184, 0.42852187156677246, 1.2500853538513184) -> [0.8, 0.8, 1.5]\n",
      "Size (384, 384, 64) -> [256.44530296 205.69049835  53.3369751 ]\n",
      "Spacing: (0.5342610478401184, 0.42852187156677246, 1.2499675750732422) -> [0.8, 0.8, 1.5]\n",
      "Size (384, 384, 64) -> [256.44530296 205.69049835  53.33194987]\n",
      "Label values: [0. 1.]\n",
      "Spacing: (0.5342610478401184, 0.42852187156677246, 1.2499675750732422) -> [0.8, 0.8, 1.5]\n",
      "Size (384, 384, 64) -> [256.44530296 205.69049835  53.33194987]\n",
      "Spacing: (0.5342610478401184, 0.42852187156677246, 1.2499675750732422) -> [0.8, 0.8, 1.5]\n",
      "Size (384, 384, 64) -> [256.44530296 205.69049835  53.33194987]\n",
      "Spacing: (0.5342610478401184, 0.4293169379234314, 1.2498936653137207) -> [0.8, 0.8, 1.5]\n",
      "Size (384, 384, 64) -> [256.44530296 206.0721302   53.32879639]\n",
      "Label values: [0. 1.]\n",
      "Spacing: (0.5342610478401184, 0.4293169379234314, 1.2498936653137207) -> [0.8, 0.8, 1.5]\n",
      "Size (384, 384, 64) -> [256.44530296 206.0721302   53.32879639]\n",
      "Spacing: (0.5342610478401184, 0.4293169379234314, 1.2498936653137207) -> [0.8, 0.8, 1.5]\n",
      "Size (384, 384, 64) -> [256.44530296 206.0721302   53.32879639]\n",
      "Spacing: (0.5342610478401184, 0.4388573169708252, 1.2499985694885254) -> [0.8, 0.8, 1.5]\n",
      "Size (384, 384, 64) -> [256.44530296 210.65151215  53.3332723 ]\n",
      "Label values: [0. 1.]\n",
      "Spacing: (0.5342610478401184, 0.4388573169708252, 1.2499985694885254) -> [0.8, 0.8, 1.5]\n",
      "Size (384, 384, 64) -> [256.44530296 210.65151215  53.3332723 ]\n",
      "Spacing: (0.5342610478401184, 0.4388573169708252, 1.2499985694885254) -> [0.8, 0.8, 1.5]\n",
      "Size (384, 384, 64) -> [256.44530296 210.65151215  53.3332723 ]\n",
      "Spacing: (0.5342610478401184, 0.4388573169708252, 1.2499816417694092) -> [0.8, 0.8, 1.5]\n",
      "Size (384, 384, 64) -> [256.44530296 210.65151215  53.33255005]\n",
      "Label values: [0. 1.]\n",
      "Spacing: (0.5342610478401184, 0.4388573169708252, 1.2499816417694092) -> [0.8, 0.8, 1.5]\n",
      "Size (384, 384, 64) -> [256.44530296 210.65151215  53.33255005]\n",
      "Spacing: (0.5342610478401184, 0.4388573169708252, 1.2499816417694092) -> [0.8, 0.8, 1.5]\n",
      "Size (384, 384, 64) -> [256.44530296 210.65151215  53.33255005]\n",
      "Spacing: (0.5342610478401184, 0.42852187156677246, 1.2500154972076416) -> [0.8, 0.8, 1.5]\n",
      "Size (384, 384, 64) -> [256.44530296 205.69049835  53.33399455]\n",
      "Label values: [0. 1.]\n",
      "Spacing: (0.5342610478401184, 0.42852187156677246, 1.2500154972076416) -> [0.8, 0.8, 1.5]\n",
      "Size (384, 384, 64) -> [256.44530296 205.69049835  53.33399455]\n",
      "Spacing: (0.5342610478401184, 0.42852187156677246, 1.2500154972076416) -> [0.8, 0.8, 1.5]\n",
      "Size (384, 384, 64) -> [256.44530296 205.69049835  53.33399455]\n",
      "Spacing: (0.5342610478401184, 0.4388573169708252, 1.2499207258224487) -> [0.8, 0.8, 1.5]\n",
      "Size (384, 384, 64) -> [256.44530296 210.65151215  53.32995097]\n",
      "Label values: [0. 1.]\n",
      "Spacing: (0.5342610478401184, 0.4388573169708252, 1.2499207258224487) -> [0.8, 0.8, 1.5]\n",
      "Size (384, 384, 64) -> [256.44530296 210.65151215  53.32995097]\n",
      "Spacing: (0.5342610478401184, 0.4388573169708252, 1.2499207258224487) -> [0.8, 0.8, 1.5]\n",
      "Size (384, 384, 64) -> [256.44530296 210.65151215  53.32995097]\n",
      "Spacing: (0.5342610478401184, 0.4388573169708252, 1.2498712539672852) -> [0.8, 0.8, 1.5]\n",
      "Size (384, 384, 64) -> [256.44530296 210.65151215  53.32784017]\n",
      "Label values: [0. 1.]\n",
      "Spacing: (0.5342610478401184, 0.4388573169708252, 1.2498712539672852) -> [0.8, 0.8, 1.5]\n",
      "Size (384, 384, 64) -> [256.44530296 210.65151215  53.32784017]\n",
      "Spacing: (0.5342610478401184, 0.4388573169708252, 1.2498712539672852) -> [0.8, 0.8, 1.5]\n",
      "Size (384, 384, 64) -> [256.44530296 210.65151215  53.32784017]\n",
      "Spacing: (0.5342610478401184, 0.4388573169708252, 1.2497985363006592) -> [0.8, 0.8, 1.5]\n",
      "Size (384, 384, 64) -> [256.44530296 210.65151215  53.32473755]\n",
      "Label values: [0. 1.]\n",
      "Spacing: (0.5342610478401184, 0.4388573169708252, 1.2497985363006592) -> [0.8, 0.8, 1.5]\n",
      "Size (384, 384, 64) -> [256.44530296 210.65151215  53.32473755]\n",
      "Spacing: (0.5342610478401184, 0.4388573169708252, 1.2497985363006592) -> [0.8, 0.8, 1.5]\n",
      "Size (384, 384, 64) -> [256.44530296 210.65151215  53.32473755]\n",
      "Spacing: (0.5342610478401184, 0.42852187156677246, 1.2499024868011475) -> [0.8, 0.8, 1.5]\n",
      "Size (384, 384, 64) -> [256.44530296 205.69049835  53.32917277]\n",
      "Label values: [0. 1.]\n",
      "Spacing: (0.5342610478401184, 0.42852187156677246, 1.2499024868011475) -> [0.8, 0.8, 1.5]\n",
      "Size (384, 384, 64) -> [256.44530296 205.69049835  53.32917277]\n",
      "Spacing: (0.5342610478401184, 0.42852187156677246, 1.2499024868011475) -> [0.8, 0.8, 1.5]\n",
      "Size (384, 384, 64) -> [256.44530296 205.69049835  53.32917277]\n",
      "Spacing: (0.5342610478401184, 0.42852187156677246, 1.250106692314148) -> [0.8, 0.8, 1.5]\n",
      "Size (384, 384, 64) -> [256.44530296 205.69049835  53.33788554]\n",
      "Label values: [0. 1.]\n",
      "Spacing: (0.5342610478401184, 0.42852187156677246, 1.250106692314148) -> [0.8, 0.8, 1.5]\n",
      "Size (384, 384, 64) -> [256.44530296 205.69049835  53.33788554]\n",
      "Spacing: (0.5342610478401184, 0.42852187156677246, 1.250106692314148) -> [0.8, 0.8, 1.5]\n",
      "Size (384, 384, 64) -> [256.44530296 205.69049835  53.33788554]\n",
      "Spacing: (0.5342610478401184, 0.42852187156677246, 1.2500951290130615) -> [0.8, 0.8, 1.5]\n",
      "Size (384, 384, 64) -> [256.44530296 205.69049835  53.33739217]\n",
      "Label values: [0. 1.]\n",
      "Spacing: (0.5342610478401184, 0.42852187156677246, 1.2500951290130615) -> [0.8, 0.8, 1.5]\n",
      "Size (384, 384, 64) -> [256.44530296 205.69049835  53.33739217]\n",
      "Spacing: (0.5342610478401184, 0.42852187156677246, 1.2500951290130615) -> [0.8, 0.8, 1.5]\n",
      "Size (384, 384, 64) -> [256.44530296 205.69049835  53.33739217]\n",
      "Spacing: (0.5342610478401184, 0.4388573169708252, 1.2504825592041016) -> [0.8, 0.8, 1.5]\n",
      "Size (384, 384, 64) -> [256.44530296 210.65151215  53.35392253]\n",
      "Label values: [0. 1.]\n",
      "Spacing: (0.5342610478401184, 0.4388573169708252, 1.2504825592041016) -> [0.8, 0.8, 1.5]\n",
      "Size (384, 384, 64) -> [256.44530296 210.65151215  53.35392253]\n",
      "Spacing: (0.5342610478401184, 0.4388573169708252, 1.2504825592041016) -> [0.8, 0.8, 1.5]\n",
      "Size (384, 384, 64) -> [256.44530296 210.65151215  53.35392253]\n",
      "Spacing: (0.5342610478401184, 0.4388573169708252, 1.2500765323638916) -> [0.8, 0.8, 1.5]\n",
      "Size (384, 384, 64) -> [256.44530296 210.65151215  53.33659871]\n",
      "Label values: [0. 1.]\n",
      "Spacing: (0.5342610478401184, 0.4388573169708252, 1.2500765323638916) -> [0.8, 0.8, 1.5]\n",
      "Size (384, 384, 64) -> [256.44530296 210.65151215  53.33659871]\n",
      "Spacing: (0.5342610478401184, 0.4388573169708252, 1.2500765323638916) -> [0.8, 0.8, 1.5]\n",
      "Size (384, 384, 64) -> [256.44530296 210.65151215  53.33659871]\n",
      "Spacing: (0.5342610478401184, 0.42852187156677246, 1.2503533363342285) -> [0.8, 0.8, 1.5]\n",
      "Size (384, 384, 64) -> [256.44530296 205.69049835  53.34840902]\n",
      "Label values: [0. 1.]\n",
      "Spacing: (0.5342610478401184, 0.42852187156677246, 1.2503533363342285) -> [0.8, 0.8, 1.5]\n",
      "Size (384, 384, 64) -> [256.44530296 205.69049835  53.34840902]\n",
      "Spacing: (0.5342610478401184, 0.42852187156677246, 1.2503533363342285) -> [0.8, 0.8, 1.5]\n",
      "Size (384, 384, 64) -> [256.44530296 205.69049835  53.34840902]\n",
      "Spacing: (0.5342610478401184, 0.40069580078125, 1.2498829364776611) -> [0.8, 0.8, 1.5]\n",
      "Size (384, 384, 64) -> [256.44530296 192.33398438  53.32833862]\n",
      "Label values: [0. 1.]\n",
      "Spacing: (0.5342610478401184, 0.40069580078125, 1.2498829364776611) -> [0.8, 0.8, 1.5]\n",
      "Size (384, 384, 64) -> [256.44530296 192.33398438  53.32833862]\n",
      "Spacing: (0.5342610478401184, 0.40069580078125, 1.2498829364776611) -> [0.8, 0.8, 1.5]\n",
      "Size (384, 384, 64) -> [256.44530296 192.33398438  53.32833862]\n",
      "Spacing: (0.5695258378982544, 0.467824786901474, 1.2499992847442627) -> [0.8, 0.8, 1.5]\n",
      "Size (384, 384, 64) -> [273.37240219 224.55589771  53.33330282]\n",
      "Label values: [0. 1.]\n",
      "Spacing: (0.5695258378982544, 0.467824786901474, 1.2499992847442627) -> [0.8, 0.8, 1.5]\n",
      "Size (384, 384, 64) -> [273.37240219 224.55589771  53.33330282]\n",
      "Spacing: (0.5695258378982544, 0.467824786901474, 1.2499992847442627) -> [0.8, 0.8, 1.5]\n",
      "Size (384, 384, 64) -> [273.37240219 224.55589771  53.33330282]\n",
      "Spacing: (0.5342610478401184, 0.4388573169708252, 1.249906063079834) -> [0.8, 0.8, 1.5]\n",
      "Size (384, 384, 64) -> [256.44530296 210.65151215  53.32932536]\n"
     ]
    },
    {
     "name": "stdout",
     "output_type": "stream",
     "text": [
      "Label values: [0. 1.]\n",
      "Spacing: (0.5342610478401184, 0.4388573169708252, 1.249906063079834) -> [0.8, 0.8, 1.5]\n",
      "Size (384, 384, 64) -> [256.44530296 210.65151215  53.32932536]\n",
      "Spacing: (0.5342610478401184, 0.4388573169708252, 1.249906063079834) -> [0.8, 0.8, 1.5]\n",
      "Size (384, 384, 64) -> [256.44530296 210.65151215  53.32932536]\n",
      "Spacing: (0.6171332597732544, 0.5069308876991272, 1.2498283386230469) -> [0.8, 0.8, 1.5]\n",
      "Size (384, 384, 64) -> [296.22396469 243.3268261   53.32600911]\n",
      "Label values: [0. 1.]\n",
      "Spacing: (0.6171332597732544, 0.5069308876991272, 1.2498283386230469) -> [0.8, 0.8, 1.5]\n",
      "Size (384, 384, 64) -> [296.22396469 243.3268261   53.32600911]\n",
      "Spacing: (0.6171332597732544, 0.5069308876991272, 1.2498283386230469) -> [0.8, 0.8, 1.5]\n",
      "Size (384, 384, 64) -> [296.22396469 243.3268261   53.32600911]\n"
     ]
    }
   ],
   "source": [
    "for (imgfile, lblfile, pid) in zip(imgs, segs, pids):\n",
    "    savename = 'Prostate_' + pid + '.nii.gz'\n",
    "    img_obj = sitk.ReadImage( imgfile )\n",
    "    seg_obj = sitk.ReadImage( lblfile )\n",
    "    img_spa_ori = img_obj.GetSpacing()\n",
    "    seg_obj.SetSpacing(img_spa_ori)\n",
    "    res_img_o = resample_by_res(img_obj, targetspacing, interpolator = sitk.sitkLinear,\n",
    "                                    logging = True)\n",
    "    res_lb_o = resample_lb_by_res(seg_obj, targetspacing, interpolator = sitk.sitkLinear,\n",
    "                                  ref_img = res_img_o, logging = True)\n",
    "    sitk.WriteImage(res_img_o, datasavepath_Target + 'Image/' + savename, True) \n",
    "    sitk.WriteImage(res_lb_o, datasavepath_Target + 'Label/' + savename, True) "
   ]
  },
  {
   "cell_type": "markdown",
   "metadata": {},
   "source": [
    "## Step 2, Intensity Normalization"
   ]
  },
  {
   "cell_type": "code",
   "execution_count": 23,
   "metadata": {},
   "outputs": [],
   "source": [
    "IMG_FOLDER_SAVE = datasavepath_Target + 'Image/'\n",
    "imgs = glob.glob(IMG_FOLDER_SAVE + \"/Prostate_*.nii.gz\")\n",
    "imgs = [ fid for fid in sorted(imgs) ]"
   ]
  },
  {
   "cell_type": "code",
   "execution_count": 24,
   "metadata": {},
   "outputs": [
    {
     "name": "stdout",
     "output_type": "stream",
     "text": [
      "Id Case00 normalized\n",
      "Id Case01 normalized\n",
      "Id Case02 normalized\n",
      "Id Case03 normalized\n",
      "Id Case04 normalized\n",
      "Id Case05 normalized\n",
      "Id Case06 normalized\n",
      "Id Case07 normalized\n",
      "Id Case08 normalized\n",
      "Id Case09 normalized\n",
      "Id Case10 normalized\n",
      "Id Case11 normalized\n",
      "Id Case12 normalized\n",
      "Id Case13 normalized\n",
      "Id Case14 normalized\n",
      "Id Case15 normalized\n",
      "Id Case16 normalized\n",
      "Id Case17 normalized\n",
      "Id Case18 normalized\n"
     ]
    }
   ],
   "source": [
    "for (imgfile, pid) in zip(imgs, pids):\n",
    "    savename = 'Prostate_' + pid + '.nii.gz'\n",
    "    img_obj = sitk.ReadImage( imgfile )\n",
    "    \n",
    "    array = sitk.GetArrayFromImage(img_obj)\n",
    "\n",
    "    pixel_mean = np.mean(array)\n",
    "    pixel_std = np.std(array)\n",
    "    array = (array - pixel_mean) / pixel_std\n",
    "\n",
    "    normalized_img = sitk.GetImageFromArray(array)\n",
    "    normalized_img.CopyInformation(img_obj)\n",
    "    \n",
    "    sitk.WriteImage(normalized_img, datasavepath_Target + 'processed/' + savename, True) \n",
    "    print('Id ' + pid + ' normalized')"
   ]
  },
  {
   "cell_type": "markdown",
   "metadata": {},
   "source": [
    "## Step 3, Generate Binary Segmentation Masks"
   ]
  },
  {
   "cell_type": "code",
   "execution_count": 25,
   "metadata": {},
   "outputs": [],
   "source": [
    "SEG_FOLDER_SAVE = datasavepath_Target + 'Label/'\n",
    "segs = [ fid for fid in sorted(glob.glob(SEG_FOLDER_SAVE + \"/Prostate_*.nii.gz\")) ]"
   ]
  },
  {
   "cell_type": "code",
   "execution_count": 26,
   "metadata": {},
   "outputs": [
    {
     "name": "stdout",
     "output_type": "stream",
     "text": [
      "Id Case00 generated\n",
      "Id Case01 generated\n",
      "Id Case02 generated\n",
      "Id Case03 generated\n",
      "Id Case04 generated\n",
      "Id Case05 generated\n",
      "Id Case06 generated\n",
      "Id Case07 generated\n",
      "Id Case08 generated\n",
      "Id Case09 generated\n",
      "Id Case10 generated\n",
      "Id Case11 generated\n",
      "Id Case12 generated\n",
      "Id Case13 generated\n",
      "Id Case14 generated\n",
      "Id Case15 generated\n",
      "Id Case16 generated\n",
      "Id Case17 generated\n",
      "Id Case18 generated\n"
     ]
    }
   ],
   "source": [
    "for (segfile, pid) in zip(segs, pids):\n",
    "    savename = 'Prostate_' + pid + '.nii.gz'\n",
    "    seg_obj = sitk.ReadImage( segfile )\n",
    "    \n",
    "    array = sitk.GetArrayFromImage(seg_obj)\n",
    "\n",
    "    array[array > 0] = 1\n",
    "\n",
    "    binary_seg = sitk.GetImageFromArray(array)\n",
    "    binary_seg.CopyInformation(seg_obj)\n",
    "    \n",
    "    sitk.WriteImage(binary_seg, datasavepath_Target + 'Label/' + savename, True) \n",
    "    print('Id ' + pid + ' generated')"
   ]
  },
  {
   "cell_type": "markdown",
   "metadata": {},
   "source": [
    "## Step 4, Generate Body Masks"
   ]
  },
  {
   "cell_type": "code",
   "execution_count": 27,
   "metadata": {},
   "outputs": [],
   "source": [
    "IMG_FOLDER_SAVE = datasavepath_Target + 'Image/'\n",
    "imgs = glob.glob(IMG_FOLDER_SAVE + \"/Prostate_*.nii.gz\")\n",
    "imgs = [ fid for fid in sorted(imgs) ]"
   ]
  },
  {
   "cell_type": "code",
   "execution_count": 28,
   "metadata": {},
   "outputs": [],
   "source": [
    "for (imgfile, pid) in zip(imgs, pids):\n",
    "    savename = 'Prostate_' + pid + '.nii.gz'\n",
    "    img_obj = sitk.ReadImage( imgfile )\n",
    "    array = sitk.GetArrayFromImage(img_obj)\n",
    "    array_mask = array > -999\n",
    "    array_mask = array_mask.astype(float)\n",
    "\n",
    "    mask_img = sitk.GetImageFromArray(array_mask)\n",
    "    mask_img.CopyInformation(img_obj)\n",
    "    \n",
    "    sitk.WriteImage(mask_img, datasavepath_Target + 'mask/' + savename, True) "
   ]
  },
  {
   "cell_type": "code",
   "execution_count": null,
   "metadata": {},
   "outputs": [],
   "source": []
  }
 ],
 "metadata": {
  "kernelspec": {
   "display_name": "JCSAugment",
   "language": "python",
   "name": "jcsaugment"
  },
  "language_info": {
   "codemirror_mode": {
    "name": "ipython",
    "version": 3
   },
   "file_extension": ".py",
   "mimetype": "text/x-python",
   "name": "python",
   "nbconvert_exporter": "python",
   "pygments_lexer": "ipython3",
   "version": "3.10.9"
  }
 },
 "nbformat": 4,
 "nbformat_minor": 2
}
